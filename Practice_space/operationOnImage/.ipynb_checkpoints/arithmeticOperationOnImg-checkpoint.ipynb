{
 "cells": [
  {
   "cell_type": "code",
   "execution_count": 1,
   "metadata": {},
   "outputs": [
    {
     "name": "stdout",
     "output_type": "stream",
     "text": [
      "[[255]]\n",
      "[4]\n"
     ]
    }
   ],
   "source": [
    "import cv2\n",
    "import numpy as np\n",
    "'''\n",
    "There is a difference between OpenCV addition and Numpy addition. OpenCV \n",
    "addition is a saturated operation while Numpy addition is a modulo operation.\n",
    "'''\n",
    "x=np.uint8([250])\n",
    "y=np.uint8([10])\n",
    "print(cv2.add(x,y)) # 250+10 = 260 => 255\n",
    "print(x+y) # 250+10 = 260 % 256 = 4"
   ]
  },
  {
   "cell_type": "code",
   "execution_count": null,
   "metadata": {},
   "outputs": [],
   "source": [
    "# image blending\n",
    "\n",
    "img1 = cv2.imread('../src/img/b.jpg')\n",
    "img2 = cv2.imread('../src/img/c.jpg')\n",
    "\n",
    "dst = cv2.addWeighted(img1,0.3,img2,0.7,0)\n",
    "cv2.imshow('dst',dst)\n",
    "cv2.waitKey(0)\n",
    "cv2.destroyAllWindows()"
   ]
  },
  {
   "cell_type": "code",
   "execution_count": null,
   "metadata": {},
   "outputs": [],
   "source": []
  }
 ],
 "metadata": {
  "kernelspec": {
   "display_name": "Python 3",
   "language": "python",
   "name": "python3"
  },
  "language_info": {
   "codemirror_mode": {
    "name": "ipython",
    "version": 3
   },
   "file_extension": ".py",
   "mimetype": "text/x-python",
   "name": "python",
   "nbconvert_exporter": "python",
   "pygments_lexer": "ipython3",
   "version": "3.6.5"
  }
 },
 "nbformat": 4,
 "nbformat_minor": 2
}
