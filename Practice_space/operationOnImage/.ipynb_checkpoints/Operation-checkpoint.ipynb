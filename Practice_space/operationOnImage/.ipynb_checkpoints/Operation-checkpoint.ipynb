{
 "cells": [
  {
   "cell_type": "code",
   "execution_count": 3,
   "metadata": {},
   "outputs": [
    {
     "name": "stdout",
     "output_type": "stream",
     "text": [
      "BGR\n",
      "[106 125 146]\n",
      "106\n"
     ]
    }
   ],
   "source": [
    "import cv2\n",
    "import numpy as np\n",
    "\n",
    "img = cv2.imread('../src/a.jpg')\n",
    "\n",
    "px = img[100,100]\n",
    "print('BGR')\n",
    "print(px)\n",
    "\n",
    "blue = img[100,100,0] #only access blue pixel\n",
    "print(blue)\n",
    "\n",
    "'''\n",
    "Numpy is a optimized library for fast array calculations.\n",
    "So simply accessing each and every pixel values and modifying\n",
    "it will be very slow and it is discouraged.\n",
    "\n",
    "Above mentioned method is normally used for selecting a region of array, \n",
    "ay first 5 rows and last 3 columns like that. For individual pixel access,\n",
    "Numpy array methods, array.item() and array.itemset() is considered to be \n",
    "better. But it always returns a scalar. So if you want to access all B,G,R\n",
    "values, you need to call array.item() separately for all\n",
    "'''\n",
    "\n",
    "img.item(10,10,2) # access RED value\n",
    "img.itemset((10,10,2),100) # set 10,10,2 to 100\n",
    "img.item(10,10,2)"
   ]
  },
  {
   "cell_type": "code",
   "execution_count": 4,
   "metadata": {},
   "outputs": [
    {
     "name": "stdout",
     "output_type": "stream",
     "text": [
      "(225, 300, 3)\n",
      "202500\n",
      "uint8\n"
     ]
    },
    {
     "data": {
      "text/plain": [
       "'\\nimg.dtype is very important while debugging because a large number \\nof errors in OpenCV-Python code is caused by invalid datatype.\\n'"
      ]
     },
     "execution_count": 4,
     "metadata": {},
     "output_type": "execute_result"
    }
   ],
   "source": [
    "# access image property\n",
    "\n",
    "print(img.shape) #It returns a tuple of number of rows, columns and channels (if image is color)\n",
    "'''\n",
    "If image is grayscale, tuple returned contains only number of rows and\n",
    "columns. So it is a good method to check if loaded image is grayscale \n",
    "or color image.\n",
    "'''\n",
    "\n",
    "print(img.size) # return number of pixels is accessed by img.size\n",
    "print(img.dtype) # EX: uint8\n",
    "\n",
    "'''\n",
    "img.dtype is very important while debugging because a large number \n",
    "of errors in OpenCV-Python code is caused by invalid datatype.\n",
    "'''\n",
    "\n",
    "\n",
    "\n"
   ]
  },
  {
   "cell_type": "code",
   "execution_count": null,
   "metadata": {},
   "outputs": [],
   "source": []
  }
 ],
 "metadata": {
  "kernelspec": {
   "display_name": "Python 3",
   "language": "python",
   "name": "python3"
  },
  "language_info": {
   "codemirror_mode": {
    "name": "ipython",
    "version": 3
   },
   "file_extension": ".py",
   "mimetype": "text/x-python",
   "name": "python",
   "nbconvert_exporter": "python",
   "pygments_lexer": "ipython3",
   "version": "3.6.5"
  }
 },
 "nbformat": 4,
 "nbformat_minor": 2
}
