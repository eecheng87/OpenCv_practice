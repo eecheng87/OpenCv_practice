{
 "cells": [
  {
   "cell_type": "code",
   "execution_count": null,
   "metadata": {},
   "outputs": [],
   "source": [
    "import cv2\n",
    "import numpy as np\n",
    "\n",
    "img1 = cv2.imread('../src/img/a.jpg')\n",
    "img2 = cv2.imread('../src/img/b.jpg')\n",
    "\n",
    "# put b on top-left corner => create roi\n",
    "rows,cols,channels = img2.shape\n",
    "roi = img1[0:rows,0:cols]\n",
    "\n",
    "# create a mask of logo and create its inverse mask\n",
    "img2gray = cv2.cvtColor(img2,cv2.COLOR_BGR2GRAY)\n",
    "ret, mask = cv2.threshold(img2gray,10,255,cv2.THRESH_BINARY)\n",
    "mask_inv = cv2.bitwise_not(mask)\n",
    "\n",
    "# black-out the area of logo in roi\n",
    "img1_bg = cv2.bitwise_and(roi,roi,mask=mask_inv)\n",
    "# take only region of logo from logo image\n",
    "img2_fg = cv2.bitwise_and(img2,img2,mask=mask)\n",
    "\n",
    "# put logo in roi and modify the main image\n",
    "dst = cv2.add(img1_bg,img2_fg)\n",
    "img1[0:rows,0:cols] = dst\n",
    "\n",
    "cv2.imshow('res',img1)\n",
    "cv2.waitKey(0)\n",
    "cv2.destroyAllWindows()\n",
    "\n",
    "\n"
   ]
  },
  {
   "cell_type": "code",
   "execution_count": null,
   "metadata": {},
   "outputs": [],
   "source": [
    "# measuring performance with opencv\n",
    "\n",
    "e1 = cv2.getTickCount()\n",
    "\n",
    "img1 = cv2.imread('../src/img/a.jpg')\n",
    "img2 = cv2.imread('../src/img/b.jpg')\n",
    "\n",
    "# put b on top-left corner => create roi\n",
    "rows,cols,channels = img2.shape\n",
    "roi = img1[0:rows,0:cols]\n",
    "\n",
    "# create a mask of logo and create its inverse mask\n",
    "img2gray = cv2.cvtColor(img2,cv2.COLOR_BGR2GRAY)\n",
    "ret, mask = cv2.threshold(img2gray,10,255,cv2.THRESH_BINARY)\n",
    "mask_inv = cv2.bitwise_not(mask)\n",
    "\n",
    "# black-out the area of logo in roi\n",
    "img1_bg = cv2.bitwise_and(roi,roi,mask=mask_inv)\n",
    "# take only region of logo from logo image\n",
    "img2_fg = cv2.bitwise_and(img2,img2,mask=mask)\n",
    "\n",
    "# put logo in roi and modify the main image\n",
    "dst = cv2.add(img1_bg,img2_fg)\n",
    "img1[0:rows,0:cols] = dst\n",
    "\n",
    "e2=cv2.getTickCount()\n",
    "time = (e2-e1)/cv2.getTickFrequency()\n",
    "print(time)\n",
    "cv2.imshow('res',img1)\n",
    "cv2.waitKey(0)\n",
    "cv2.destroyAllWindows()"
   ]
  },
  {
   "cell_type": "code",
   "execution_count": null,
   "metadata": {},
   "outputs": [],
   "source": []
  }
 ],
 "metadata": {
  "kernelspec": {
   "display_name": "Python 3",
   "language": "python",
   "name": "python3"
  },
  "language_info": {
   "codemirror_mode": {
    "name": "ipython",
    "version": 3
   },
   "file_extension": ".py",
   "mimetype": "text/x-python",
   "name": "python",
   "nbconvert_exporter": "python",
   "pygments_lexer": "ipython3",
   "version": "3.6.5"
  }
 },
 "nbformat": 4,
 "nbformat_minor": 2
}
