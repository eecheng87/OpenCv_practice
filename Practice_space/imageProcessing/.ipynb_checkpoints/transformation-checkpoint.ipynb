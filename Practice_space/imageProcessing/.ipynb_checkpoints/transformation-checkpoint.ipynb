{
 "cells": [
  {
   "cell_type": "code",
   "execution_count": null,
   "metadata": {},
   "outputs": [],
   "source": [
    "# opencv provides two transformation functions :\n",
    "# cv2.warpAffine takes a 2x3 transformation matrix \n",
    "# cv2.warpPerspective takes a 3x3 transformation matrix as input\n",
    "\n",
    "import cv2\n",
    "import numpy as np\n",
    "\n",
    "# resize\n",
    "\n",
    "img = cv2.imread('../src/d.jpg')\n",
    "res = cv2.resize(img,None,fx=2,fy=2,interpolation=cv2.INTER_CUBIC)\n",
    "cv2.imshow('img',res)\n",
    "cv2.waitKey(0)\n",
    "cv2.destroyAllWindows()"
   ]
  }
 ],
 "metadata": {
  "kernelspec": {
   "display_name": "Python 3",
   "language": "python",
   "name": "python3"
  },
  "language_info": {
   "codemirror_mode": {
    "name": "ipython",
    "version": 3
   },
   "file_extension": ".py",
   "mimetype": "text/x-python",
   "name": "python",
   "nbconvert_exporter": "python",
   "pygments_lexer": "ipython3",
   "version": "3.6.5"
  }
 },
 "nbformat": 4,
 "nbformat_minor": 2
}
