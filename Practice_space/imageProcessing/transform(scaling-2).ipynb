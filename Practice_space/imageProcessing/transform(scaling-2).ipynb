{
 "cells": [
  {
   "cell_type": "code",
   "execution_count": 2,
   "metadata": {},
   "outputs": [
    {
     "name": "stdout",
     "output_type": "stream",
     "text": [
      "308 450\n"
     ]
    }
   ],
   "source": [
    "# opencv provides two transformation functions :\n",
    "# cv2.warpAffine takes a 2x3 transformation matrix \n",
    "# cv2.warpPerspective takes a 3x3 transformation matrix as input\n",
    "\n",
    "import cv2\n",
    "import numpy as np\n",
    "\n",
    "# resize\n",
    "\n",
    "img = cv2.imread('../src/d.jpg')\n",
    "height, width = img.shape[:2]\n",
    "res = cv2.resize(img,(2*width, 2*height), interpolation = cv2.INTER_CUBIC)\n",
    "print(height,width)"
   ]
  },
  {
   "cell_type": "code",
   "execution_count": null,
   "metadata": {},
   "outputs": [],
   "source": []
  }
 ],
 "metadata": {
  "kernelspec": {
   "display_name": "Python 3",
   "language": "python",
   "name": "python3"
  },
  "language_info": {
   "codemirror_mode": {
    "name": "ipython",
    "version": 3
   },
   "file_extension": ".py",
   "mimetype": "text/x-python",
   "name": "python",
   "nbconvert_exporter": "python",
   "pygments_lexer": "ipython3",
   "version": "3.6.5"
  }
 },
 "nbformat": 4,
 "nbformat_minor": 2
}
